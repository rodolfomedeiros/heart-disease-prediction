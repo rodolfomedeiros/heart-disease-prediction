{
 "cells": [
  {
   "cell_type": "code",
   "execution_count": 1,
   "metadata": {},
   "outputs": [],
   "source": [
    "import pandas as pd\n",
    "import numpy as np\n",
    "\n",
    "from sklearn.model_selection import train_test_split\n",
    "\n",
    "from sklearn.model_selection import cross_val_score\n",
    "\n",
    "from sklearn.neighbors import KNeighborsClassifier\n",
    "from sklearn.neural_network import MLPClassifier\n",
    "from sklearn.svm import SVC\n",
    "from sklearn.naive_bayes import GaussianNB\n",
    "\n",
    "from sklearn.ensemble import VotingClassifier\n",
    "from mlxtend.classifier import StackingClassifier\n",
    "\n",
    "basePre = pd.read_csv('./bases/base_pre.csv')\n",
    "baseScaled = pd.read_csv('./bases/base_scaled.csv')\n",
    "basePca70 = pd.read_csv('./bases/base_train_70.csv')\n",
    "\n",
    "cv=5\n",
    "\n",
    "#knn\n",
    "n = 2\n",
    "\n",
    "#mlp\n",
    "solver = 'lbfgs'\n",
    "alpha = 1e-5\n",
    "hls = (15,)\n",
    "rs = 1\n",
    "\n",
    "#svm\n",
    "gamma='scale'\n",
    "kernel='linear'\n",
    "c=1\n",
    "\n",
    "#voting\n",
    "nivel='hard'\n",
    "\n",
    "Y = basePre['target']\n",
    "\n",
    "#scaled\n",
    "knn = KNeighborsClassifier(n_neighbors=n)\n",
    "mlp = MLPClassifier(solver=solver, alpha=alpha, hidden_layer_sizes=hls, random_state=rs)\n",
    "\n",
    "#pca70\n",
    "naive = GaussianNB()\n",
    "svm = SVC(gamma=gamma, kernel=kernel, C=c)"
   ]
  },
  {
   "cell_type": "code",
   "execution_count": 2,
   "metadata": {},
   "outputs": [
    {
     "data": {
      "text/html": [
       "<div>\n",
       "<style scoped>\n",
       "    .dataframe tbody tr th:only-of-type {\n",
       "        vertical-align: middle;\n",
       "    }\n",
       "\n",
       "    .dataframe tbody tr th {\n",
       "        vertical-align: top;\n",
       "    }\n",
       "\n",
       "    .dataframe thead th {\n",
       "        text-align: right;\n",
       "    }\n",
       "</style>\n",
       "<table border=\"1\" class=\"dataframe\">\n",
       "  <thead>\n",
       "    <tr style=\"text-align: right;\">\n",
       "      <th></th>\n",
       "      <th>mean</th>\n",
       "      <th>std</th>\n",
       "    </tr>\n",
       "  </thead>\n",
       "  <tbody>\n",
       "    <tr>\n",
       "      <td>0</td>\n",
       "      <td>78.0</td>\n",
       "      <td>7.0</td>\n",
       "    </tr>\n",
       "    <tr>\n",
       "      <td>1</td>\n",
       "      <td>78.0</td>\n",
       "      <td>7.0</td>\n",
       "    </tr>\n",
       "    <tr>\n",
       "      <td>2</td>\n",
       "      <td>78.0</td>\n",
       "      <td>7.0</td>\n",
       "    </tr>\n",
       "    <tr>\n",
       "      <td>3</td>\n",
       "      <td>78.0</td>\n",
       "      <td>7.0</td>\n",
       "    </tr>\n",
       "  </tbody>\n",
       "</table>\n",
       "</div>"
      ],
      "text/plain": [
       "   mean  std\n",
       "0  78.0  7.0\n",
       "1  78.0  7.0\n",
       "2  78.0  7.0\n",
       "3  78.0  7.0"
      ]
     },
     "execution_count": 2,
     "metadata": {},
     "output_type": "execute_result"
    }
   ],
   "source": [
    "#5\n",
    "clfScaled5 = StackingClassifier([mlp, knn]*2+[mlp], meta_classifier=mlp)\n",
    "#10\n",
    "clfScaled10 = StackingClassifier([mlp, knn]*5, meta_classifier=mlp)\n",
    "#20\n",
    "clfScaled20 = StackingClassifier([mlp, knn]*10, meta_classifier=mlp)\n",
    "#30\n",
    "clfScaled30 = StackingClassifier([mlp, knn]*15, meta_classifier=mlp)\n",
    "\n",
    "rScaled5 = cross_val_score(clfScaled5, baseScaled, Y, cv=cv)\n",
    "rScaled10 = cross_val_score(clfScaled10, baseScaled, Y, cv=cv)\n",
    "rScaled20 = cross_val_score(clfScaled20, baseScaled, Y, cv=cv)\n",
    "rScaled30 = cross_val_score(clfScaled30, baseScaled, Y, cv=cv)\n",
    "\n",
    "dfAcc = np.array([[rScaled5.mean(), rScaled5.std()*2]])\n",
    "dfAcc = np.append(dfAcc, [[rScaled10.mean(), rScaled10.std()*2]], axis=0)\n",
    "dfAcc = np.append(dfAcc, [[rScaled20.mean(), rScaled20.std()*2]], axis=0)\n",
    "dfAcc = np.append(dfAcc, [[rScaled30.mean(), rScaled30.std()*2]], axis=0)\n",
    "\n",
    "dfAccScaled = pd.DataFrame(dfAcc, columns=['mean', 'std'], index=None)\n",
    "\n",
    "dfAccScaled = (dfAccScaled*100).apply(np.floor)\n",
    "dfAccScaled\n"
   ]
  },
  {
   "cell_type": "code",
   "execution_count": 3,
   "metadata": {},
   "outputs": [
    {
     "data": {
      "text/html": [
       "<div>\n",
       "<style scoped>\n",
       "    .dataframe tbody tr th:only-of-type {\n",
       "        vertical-align: middle;\n",
       "    }\n",
       "\n",
       "    .dataframe tbody tr th {\n",
       "        vertical-align: top;\n",
       "    }\n",
       "\n",
       "    .dataframe thead th {\n",
       "        text-align: right;\n",
       "    }\n",
       "</style>\n",
       "<table border=\"1\" class=\"dataframe\">\n",
       "  <thead>\n",
       "    <tr style=\"text-align: right;\">\n",
       "      <th></th>\n",
       "      <th>mean</th>\n",
       "      <th>std</th>\n",
       "    </tr>\n",
       "  </thead>\n",
       "  <tbody>\n",
       "    <tr>\n",
       "      <td>0</td>\n",
       "      <td>84.0</td>\n",
       "      <td>7.0</td>\n",
       "    </tr>\n",
       "    <tr>\n",
       "      <td>1</td>\n",
       "      <td>84.0</td>\n",
       "      <td>7.0</td>\n",
       "    </tr>\n",
       "    <tr>\n",
       "      <td>2</td>\n",
       "      <td>84.0</td>\n",
       "      <td>7.0</td>\n",
       "    </tr>\n",
       "    <tr>\n",
       "      <td>3</td>\n",
       "      <td>84.0</td>\n",
       "      <td>7.0</td>\n",
       "    </tr>\n",
       "  </tbody>\n",
       "</table>\n",
       "</div>"
      ],
      "text/plain": [
       "   mean  std\n",
       "0  84.0  7.0\n",
       "1  84.0  7.0\n",
       "2  84.0  7.0\n",
       "3  84.0  7.0"
      ]
     },
     "execution_count": 3,
     "metadata": {},
     "output_type": "execute_result"
    }
   ],
   "source": [
    "#5\n",
    "clfPca705 = StackingClassifier([svm, naive]*2+[svm], meta_classifier=svm)\n",
    "#10\n",
    "clfPca7010 = StackingClassifier([svm, naive]*5, meta_classifier=svm)\n",
    "#20\n",
    "clfPca7020 = StackingClassifier([svm, naive]*10, meta_classifier=svm)\n",
    "#30\n",
    "clfPca7030 = StackingClassifier([svm, naive]*15, meta_classifier=svm)\n",
    "\n",
    "rPca705 = cross_val_score(clfPca705, basePca70, Y, cv=cv)\n",
    "rPca7010 = cross_val_score(clfPca7010, basePca70, Y, cv=cv)\n",
    "rPca7020 = cross_val_score(clfPca7020, basePca70, Y, cv=cv)\n",
    "rPca7030 = cross_val_score(clfPca7030, basePca70, Y, cv=cv)\n",
    "\n",
    "dfAcc = np.array([[rPca705.mean(), rPca705.std()*2]])\n",
    "dfAcc = np.append(dfAcc, [[rPca7010.mean(), rPca7010.std()*2]], axis=0)\n",
    "dfAcc = np.append(dfAcc, [[rPca7020.mean(), rPca7020.std()*2]], axis=0)\n",
    "dfAcc = np.append(dfAcc, [[rPca7030.mean(), rPca7030.std()*2]], axis=0)\n",
    "\n",
    "dfAccPca70 = pd.DataFrame(dfAcc, columns=['mean', 'std'], index=None)\n",
    "\n",
    "dfAccPca70 = (dfAccPca70*100).apply(np.floor)\n",
    "dfAccPca70"
   ]
  },
  {
   "cell_type": "code",
   "execution_count": 5,
   "metadata": {},
   "outputs": [
    {
     "data": {
      "image/png": "[encoded data removed]",
      "text/plain": [
       "<Figure size 432x288 with 1 Axes>"
      ]
     },
     "metadata": {
      "needs_background": "light"
     },
     "output_type": "display_data"
    }
   ],
   "source": [
    "from plt import *\n",
    "stacking(dfAcc1=dfAccScaled, dfAcc2=dfAccPca70, img='stacking.png')"
   ]
  },
  {
   "cell_type": "code",
   "execution_count": null,
   "metadata": {},
   "outputs": [],
   "source": []
  }
 ],
 "metadata": {
  "kernelspec": {
   "display_name": "Python 3",
   "language": "python",
   "name": "python3"
  },
  "language_info": {
   "codemirror_mode": {
    "name": "ipython",
    "version": 3
   },
   "file_extension": ".py",
   "mimetype": "text/x-python",
   "name": "python",
   "nbconvert_exporter": "python",
   "pygments_lexer": "ipython3",
   "version": "3.7.4"
  }
 },
 "nbformat": 4,
 "nbformat_minor": 4
}
