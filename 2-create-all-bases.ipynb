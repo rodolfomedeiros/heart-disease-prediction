{
 "cells": [
  {
   "cell_type": "code",
   "execution_count": 1,
   "metadata": {},
   "outputs": [],
   "source": [
    "from sklearn import preprocessing as pre\n",
    "import pandas as pd\n",
    "from sklearn.decomposition import PCA\n",
    "\n",
    "basePre = pd.read_csv('./bases/base_pre.csv')"
   ]
  },
  {
   "cell_type": "code",
   "execution_count": 2,
   "metadata": {},
   "outputs": [],
   "source": [
    "basePre = basePre.drop(['target'], axis=1)\n",
    "baseScaled = pre.scale(basePre)"
   ]
  },
  {
   "cell_type": "code",
   "execution_count": 3,
   "metadata": {},
   "outputs": [],
   "source": [
    "cols = list(basePre.columns)"
   ]
  },
  {
   "cell_type": "code",
   "execution_count": 4,
   "metadata": {},
   "outputs": [],
   "source": [
    "baseScaled = pd.DataFrame(baseScaled, columns=cols)"
   ]
  },
  {
   "cell_type": "code",
   "execution_count": 5,
   "metadata": {},
   "outputs": [],
   "source": [
    "baseScaled.to_csv('base_scaled.csv', index=None, header=True)"
   ]
  },
  {
   "cell_type": "code",
   "execution_count": 6,
   "metadata": {},
   "outputs": [],
   "source": [
    "pca = PCA(n_components=13, whiten=True)\n",
    "d1 = pca.fit_transform(baseScaled[cols].values)\n",
    "d1 = pd.DataFrame(d1, columns=cols)\n",
    "d1.to_csv('base_train_completa.csv', index=None, header=True)"
   ]
  },
  {
   "cell_type": "code",
   "execution_count": 7,
   "metadata": {},
   "outputs": [],
   "source": [
    "cols.remove('cp');cols.remove('restecg');cols.remove('thalach');cols.remove('slope')\n",
    "d2 = baseScaled[cols]\n",
    "d2.to_csv('base_train_correlacao_inversa.csv', index=None, header=True)"
   ]
  },
  {
   "cell_type": "code",
   "execution_count": 8,
   "metadata": {},
   "outputs": [],
   "source": [
    "cols = list(['cp','restecg','thalach','slope'])\n",
    "d3 = baseScaled[cols]\n",
    "d3.to_csv('base_train_correlacao_proporcional.csv', index=None, header=True)"
   ]
  },
  {
   "cell_type": "code",
   "execution_count": 9,
   "metadata": {},
   "outputs": [],
   "source": [
    "pca = PCA(n_components=9, whiten=True)\n",
    "d4 = pca.fit_transform(baseScaled.values)\n",
    "d4 = pd.DataFrame(d4)\n",
    "d4.to_csv('base_train_70.csv', index=None, header=True)"
   ]
  },
  {
   "cell_type": "code",
   "execution_count": 10,
   "metadata": {},
   "outputs": [],
   "source": [
    "pca = PCA(n_components=6, whiten=True)\n",
    "d5 = pca.fit_transform(baseScaled.values)\n",
    "d5 = pd.DataFrame(d5)\n",
    "d5.to_csv('base_train_50.csv', index=None, header=True)"
   ]
  }
 ],
 "metadata": {
  "kernelspec": {
   "display_name": "Python 3",
   "language": "python",
   "name": "python3"
  },
  "language_info": {
   "codemirror_mode": {
    "name": "ipython",
    "version": 3
   },
   "file_extension": ".py",
   "mimetype": "text/x-python",
   "name": "python",
   "nbconvert_exporter": "python",
   "pygments_lexer": "ipython3",
   "version": "3.7.4"
  }
 },
 "nbformat": 4,
 "nbformat_minor": 4
}
